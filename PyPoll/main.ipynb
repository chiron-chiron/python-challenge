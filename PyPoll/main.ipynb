{
 "cells": [
  {
   "cell_type": "code",
   "execution_count": 5,
   "metadata": {},
   "outputs": [
    {
     "name": "stdout",
     "output_type": "stream",
     "text": [
      "3521001\n",
      "Election Results\n",
      "-------------------------\n",
      "Total Votes: 3521001\n",
      "-------------------------\n"
     ]
    }
   ],
   "source": [
    "import os\n",
    "import csv\n",
    "\n",
    "budget_data = 'Resources/election_data.csv'\n",
    "rowcount = 0\n",
    "\n",
    "# Open the csv file in read mode\n",
    "with open(budget_data) as csvfile:\n",
    "    csvreader = csv.reader(csvfile, delimiter=\",\")\n",
    "    \n",
    "    header = next(csvreader)    #Skip header and read remainder of data\n",
    "\n",
    "# How many total votes cast?\n",
    "    for row in csvreader:\n",
    "        rowcount = rowcount + 1\n",
    "\n",
    "print(rowcount)\n",
    "print(f\"Election Results\")\n",
    "print(f\"-------------------------\")\n",
    "print(f\"Total Votes: {rowcount}\")\n",
    "print(f\"-------------------------\")\n",
    "\n",
    "\n"
   ]
  }
 ],
 "metadata": {
  "interpreter": {
   "hash": "c1045dce47e268ff1365c3f603defeb0aa850c229e636842f21fdc3e170438c8"
  },
  "kernelspec": {
   "display_name": "Python 3.7.13 ('bootcamp')",
   "language": "python",
   "name": "python3"
  },
  "language_info": {
   "codemirror_mode": {
    "name": "ipython",
    "version": 3
   },
   "file_extension": ".py",
   "mimetype": "text/x-python",
   "name": "python",
   "nbconvert_exporter": "python",
   "pygments_lexer": "ipython3",
   "version": "3.7.13"
  },
  "orig_nbformat": 4
 },
 "nbformat": 4,
 "nbformat_minor": 2
}
