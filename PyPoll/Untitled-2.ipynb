{
 "cells": [
  {
   "cell_type": "code",
   "execution_count": null,
   "metadata": {},
   "outputs": [],
   "source": [
    "import os\n",
    "import csv\n",
    "\n",
    "# Set file for path\n",
    "# election_data = 'Resources/book2.csv'\n",
    "csvpath = os.path.join(\"Resources\", \"election_data.csv\")\n",
    "\n",
    "\n",
    "\n",
    "# Set variable\n",
    "rowcount = 0                # Integer counting number of votes\n",
    "voter_ID = []               \n",
    "county = []\n",
    "candidate_name_votes = []         # Array of candidate names only\n",
    "vote_data = []\n",
    "votes_total = 0\n",
    "vote_percent_candidate_sorted = []\n",
    "# candidate_votes = []"
   ]
  },
  {
   "cell_type": "code",
   "execution_count": null,
   "metadata": {},
   "outputs": [],
   "source": [
    "# Set file for path\n",
    "# election_data = 'Resources/book2.csv'\n",
    "from typing import OrderedDict\n",
    "\n",
    "\n",
    "csvpath = os.path.join(\"Resources\", \"election_data.csv\")\n",
    "\n",
    "# Open the csv file in read mode\n",
    "with open(csvpath) as csvfile:\n",
    "    csvreader = csv.reader(csvfile, delimiter=\",\")\n",
    "    csv_header = next(csvreader)                #Skip header and read remainder of data\n",
    "    \n",
    "    # Print csv file into vote_date, and print candidate name from votes, into seperate array\n",
    "    # \n",
    "    for row in csvreader:\n",
    "        # vote_id = int(row[0])\n",
    "        # county = int(row[1])\n",
    "        # candidate = str(row[2])\n",
    "        # candidate_list.append(candidate)\n",
    "        vote_data.append(row)\n",
    "        candidate_name_votes.append(row[2])\n",
    "\n",
    "# Remove duplicates form candidate_list array, to get clean list of all candidates\n",
    "candidate_list_clean = list(OrderedDict.fromkeys(candidate_name_votes))"
   ]
  },
  {
   "cell_type": "code",
   "execution_count": null,
   "metadata": {},
   "outputs": [],
   "source": [
    "candidate_list_clean\n",
    "\n",
    "# Convert list to dictionary, with 0 values (i.e votes) for each candidate\n",
    "vote_counter = dict.fromkeys(candidate_list_clean, 0)\n",
    "print(vote_counter)\n",
    "# vote_counter"
   ]
  },
  {
   "cell_type": "code",
   "execution_count": null,
   "metadata": {},
   "outputs": [],
   "source": [
    "for key in vote_counter:\n",
    "    \n",
    "    votes = 0\n",
    "    \n",
    "    for vote in candidate_name_votes:\n",
    "        if key == vote:\n",
    "            vote_counter[key] = vote_counter[key] + 1\n",
    "            votes = votes + 1\n",
    "            # votes = votes + 1\n",
    "    vote_data.append(votes)\n",
    "    votes_total = votes + 1\n",
    "\n",
    "# print(vote_counter)\n",
    "# print(votes_total)\n",
    "# print(vote_data)"
   ]
  },
  {
   "cell_type": "code",
   "execution_count": null,
   "metadata": {},
   "outputs": [],
   "source": [
    "# Sort dictionary by values, so highest votes to lowest votes.\n",
    "vote_counter_sorted = dict(sorted(vote_counter.items(), key=lambda x:x[1], reverse = True))\n",
    "vote_counter_sorted\n"
   ]
  },
  {
   "cell_type": "code",
   "execution_count": null,
   "metadata": {},
   "outputs": [],
   "source": [
    "for i in vote_counter_sorted.values():\n",
    "    vote_percent = round(((i) / votes_total * 100), 3)\n",
    "    vote_percent_candidate_sorted.append(vote_percent)\n",
    "    print(f'{vote_counter_sorted[i]}: {vote_percent_candidate_sorted[i]}% ()')\n",
    "    \n",
    "    # print(f'{vote_counter_sorted[i]}: {vote_percent_candidate_sorted[i]}% ({vote_counter_sorted[i]})')\n",
    "\n",
    "# print(vote_percent)\n",
    "print(vote_percent_candidate_sorted)"
   ]
  },
  {
   "cell_type": "code",
   "execution_count": null,
   "metadata": {},
   "outputs": [],
   "source": [
    "for i in vote_counter_sorted:\n",
    "    print(f'{[i]}: %')"
   ]
  },
  {
   "cell_type": "code",
   "execution_count": null,
   "metadata": {},
   "outputs": [],
   "source": [
    "# Set variables for calcs\n",
    "votes_c = int(vote_counter[\"Correy\"])\n",
    "votes_k = int(vote_counter[\"Khan\"])\n",
    "votes_l = int(vote_counter[\"Li\"])\n",
    "votes_o = int(vote_counter[\"O'Tooley\"])\n",
    "\n",
    "# Calc percentage of votes won for each candidate\n",
    "votes_total = (votes_c + votes_k + votes_l + votes_o)       # Needs to run before following code\n",
    "percent_c = (votes_c / votes_total)\n",
    "percent_k = (votes_k / votes_total)\n",
    "percent_l = (votes_l / votes_total)\n",
    "percent_o = (votes_o / votes_total)\n",
    "\n",
    "# Create a new array of vote percentages, so can call later for displaying\n",
    "vote_percent_candidate = "
   ]
  },
  {
   "cell_type": "code",
   "execution_count": null,
   "metadata": {},
   "outputs": [],
   "source": [
    "dict(sorted(vote_counter.items(), key=lambda x:x[1], reverse = True))"
   ]
  },
  {
   "cell_type": "code",
   "execution_count": null,
   "metadata": {},
   "outputs": [],
   "source": [
    "print(f\"Election Results\")\n",
    "print(f\"-------------------------\")\n",
    "print(f\"Total Votes: {votes_total}\")\n",
    "print(f\"-------------------------\")\n",
    "print()\n",
    "print(f\"-------------------------\")\n",
    "print(f\"Winner: \")\n",
    "print(f\"-------------------------\")\n"
   ]
  },
  {
   "cell_type": "code",
   "execution_count": null,
   "metadata": {},
   "outputs": [],
   "source": [
    "# Keep running tally of votes (by adding 1 vote), into dictionary, when candidates names"
   ]
  },
  {
   "cell_type": "code",
   "execution_count": null,
   "metadata": {},
   "outputs": [],
   "source": [
    "\n",
    "\n",
    "\n",
    "\n",
    "# Unique names\n",
    "    # for row in csvreader:\n",
    "    #     if row[2] not in Candidate_list:\n",
    "    #         Candidate_list.append(row[2])\n",
    "    # print(Candidate_list)\n",
    "\n",
    "# How many total votes cast?\n",
    "    for row in csvreader:\n",
    "        rowcount = rowcount + 1\n",
    "\n",
    "\n",
    "print(rowcount)\n",
    "# print(f\"Election Results\")\n",
    "# print(f\"-------------------------\")\n",
    "print(f\"Total Votes: {rowcount}\")\n",
    "# print(f\"-------------------------\")\n",
    "\n",
    "# Unique names\n",
    "file.close()\n"
   ]
  }
 ],
 "metadata": {
  "kernelspec": {
   "display_name": "Python 3.7.13 ('bootcamp')",
   "language": "python",
   "name": "python3"
  },
  "language_info": {
   "name": "python",
   "version": "3.7.13"
  },
  "orig_nbformat": 4,
  "vscode": {
   "interpreter": {
    "hash": "c1045dce47e268ff1365c3f603defeb0aa850c229e636842f21fdc3e170438c8"
   }
  }
 },
 "nbformat": 4,
 "nbformat_minor": 2
}
