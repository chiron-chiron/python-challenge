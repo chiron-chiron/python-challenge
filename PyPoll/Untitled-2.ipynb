{
 "cells": [
  {
   "cell_type": "code",
   "execution_count": 2,
   "metadata": {},
   "outputs": [],
   "source": [
    "# Dependecies\n",
    "import os\n",
    "import csv\n",
    "\n",
    "\n",
    "\n",
    "# Set variables\n",
    "candidate_name_votes = []                   # Array of all votes cast, as expressed by candidate name. So an array of all \n",
    "vote_data = []                              # Array all voting data\n",
    "votes_total = 0                             # Integer for tallying total votes\n",
    "vote_percent_candidate_sorted = []          # Array of percentages (of votes won) for each candidate (sorted descending)"
   ]
  },
  {
   "cell_type": "code",
   "execution_count": 3,
   "metadata": {},
   "outputs": [],
   "source": [
    "# Set file for path\n",
    "from typing import OrderedDict\n",
    "\n",
    "# Set variable for csv path\n",
    "csvpath = os.path.join(\"Resources\", \"election_data.csv\")\n",
    "\n",
    "\n",
    "# Open the csv file in read mode\n",
    "with open(csvpath) as csvfile:\n",
    "    csvreader = csv.reader(csvfile, delimiter=\",\")\n",
    "    csv_header = next(csvreader)                        #Skip header and read remainder of data\n",
    "    \n",
    "    # Retrieve csv file into vote_date, and print candidate name from votes, into seperate array\n",
    "    for row in csvreader:\n",
    "        vote_data.append(row)                           # Array all voting data\n",
    "        candidate_name_votes.append(row[2])             # Retieve candiate voted for from each vote cast, i.e Candidate column\n",
    "\n",
    "\n",
    "\n",
    "# Remove duplicates form candidate_list array, to get clean list of all candidates\n",
    "candidate_list_clean = list(OrderedDict.fromkeys(candidate_name_votes))"
   ]
  },
  {
   "cell_type": "code",
   "execution_count": 4,
   "metadata": {},
   "outputs": [
    {
     "name": "stdout",
     "output_type": "stream",
     "text": [
      "{'Khan': 0, 'Correy': 0, 'Li': 0, \"O'Tooley\": 0}\n"
     ]
    }
   ],
   "source": [
    "# Convert list to dictionary, assign 0 values (i.e votes) for each key (i.e. candidate)\n",
    "vote_counter = dict.fromkeys(candidate_list_clean, 0)\n",
    "print(vote_counter)"
   ]
  },
  {
   "cell_type": "code",
   "execution_count": 5,
   "metadata": {},
   "outputs": [],
   "source": [
    "# Iterate on clean dictionary of candidates, and iterate on array of all votes (as captured by candidate name), and tally votes.\n",
    "for key in vote_counter:\n",
    "    \n",
    "    votes = 0                                           # By placing here, will reset vote counter to 0, for proceeding candidate loop in vote_counter.\n",
    "    \n",
    "    for vote in candidate_name_votes:\n",
    "        if key == vote:                                 # vote represents cast vote, as expressed in candidates name. So if dictionary key matches vote,\n",
    "            vote_counter[key] = vote_counter[key] + 1   # Add 1 vote to dictionary value for current iteration (i.e. candidate)\n",
    "            votes = votes + 1                           # Track votes for current iteration (i.e. candidate)\n",
    "    \n",
    "    votes_total = votes_total + votes                   # This will tally all votes, for each iteration (i.e. candidate)"
   ]
  },
  {
   "cell_type": "code",
   "execution_count": 6,
   "metadata": {},
   "outputs": [
    {
     "data": {
      "text/plain": [
       "{'Khan': 2218231, 'Correy': 704200, 'Li': 492940, \"O'Tooley\": 105630}"
      ]
     },
     "execution_count": 6,
     "metadata": {},
     "output_type": "execute_result"
    }
   ],
   "source": [
    "# Sort dictionary by values descending, so highest votes to lowest votes.\n",
    "vote_counter_sorted = dict(sorted(vote_counter.items(), key=lambda x:x[1], reverse = True))\n",
    "vote_counter_sorted\n"
   ]
  },
  {
   "cell_type": "code",
   "execution_count": 7,
   "metadata": {},
   "outputs": [
    {
     "name": "stdout",
     "output_type": "stream",
     "text": [
      "Election Results\n",
      "-------------------------\n",
      "Total Votes: 3521001\n",
      "-------------------------\n",
      "Khan: 63.0% (2218231)\n",
      "Correy: 20.0% (704200)\n",
      "Li: 14.0% (492940)\n",
      "O'Tooley: 3.0% (105630)\n",
      "-------------------------\n",
      "Winner: Khan\n",
      "-------------------------\n"
     ]
    }
   ],
   "source": [
    "# Print results\n",
    "\n",
    "print(f\"Election Results\")\n",
    "print(f\"-------------------------\")\n",
    "print(f\"Total Votes: {votes_total}\")\n",
    "print(f\"-------------------------\")\n",
    "\n",
    "# For loop on key and value of sorted (descending by votes) dictionary, print each candidates results.\n",
    "for key, value in vote_counter_sorted.items():\n",
    "    vote_percent = round(((value) / votes_total * 100), 3)\n",
    "    vote_percent_candidate_sorted.append(vote_percent)\n",
    "    print(f'{key}: {vote_percent}% ({value})')\n",
    "    \n",
    "print(f\"-------------------------\")\n",
    "\n",
    "# Retrieve 1st key from sorted (descending by votes) dictionary, print key (i.e name of candidate that got most votes)\n",
    "print(f\"Winner: {list(vote_counter_sorted.keys())[0]}\")\n",
    "print(f\"-------------------------\")"
   ]
  },
  {
   "cell_type": "code",
   "execution_count": 8,
   "metadata": {},
   "outputs": [
    {
     "data": {
      "text/plain": [
       "[63.0, 20.0, 14.0, 3.0]"
      ]
     },
     "execution_count": 8,
     "metadata": {},
     "output_type": "execute_result"
    }
   ],
   "source": [
    "vote_percent_candidate_sorted"
   ]
  }
 ],
 "metadata": {
  "kernelspec": {
   "display_name": "Python 3.7.13 ('bootcamp')",
   "language": "python",
   "name": "python3"
  },
  "language_info": {
   "codemirror_mode": {
    "name": "ipython",
    "version": 3
   },
   "file_extension": ".py",
   "mimetype": "text/x-python",
   "name": "python",
   "nbconvert_exporter": "python",
   "pygments_lexer": "ipython3",
   "version": "3.7.13"
  },
  "orig_nbformat": 4,
  "vscode": {
   "interpreter": {
    "hash": "c1045dce47e268ff1365c3f603defeb0aa850c229e636842f21fdc3e170438c8"
   }
  }
 },
 "nbformat": 4,
 "nbformat_minor": 2
}
