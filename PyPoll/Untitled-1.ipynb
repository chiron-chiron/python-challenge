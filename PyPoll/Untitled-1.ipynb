{
 "cells": [
  {
   "cell_type": "code",
   "execution_count": 25,
   "metadata": {},
   "outputs": [],
   "source": [
    "import os\n",
    "import csv\n",
    "\n",
    "# Set file for path\n",
    "# election_data = 'Resources/book2.csv'\n",
    "csvpath = os.path.join(\"Resources\", \"election_data.csv\")\n",
    "\n",
    "\n",
    "\n",
    "# Set variable\n",
    "rowcount = 0                # Integer counting number of votes\n",
    "voter_ID = []               \n",
    "county = []\n",
    "candidate_name_votes = []         # Array of candidate names only\n",
    "vote_data = []\n",
    "# candidate_votes = []\n",
    "\n",
    "# Dictionary of each candidates votes\n",
    "# vote_counter = {\n",
    "#     \"Correy\": 0,\n",
    "#     \"Khan\": 0,\n",
    "#     \"Li\": 0,\n",
    "#     \"O'Tooley\": 0\n",
    "# }"
   ]
  },
  {
   "cell_type": "code",
   "execution_count": 26,
   "metadata": {},
   "outputs": [],
   "source": [
    "# Set file for path\n",
    "# election_data = 'Resources/book2.csv'\n",
    "from typing import OrderedDict\n",
    "\n",
    "\n",
    "csvpath = os.path.join(\"Resources\", \"election_data.csv\")\n",
    "\n",
    "# Open the csv file in read mode\n",
    "with open(csvpath) as csvfile:\n",
    "    csvreader = csv.reader(csvfile, delimiter=\",\")\n",
    "    csv_header = next(csvreader)                #Skip header and read remainder of data\n",
    "    \n",
    "    # Print csv file into vote_date, and print candidate name from votes, into seperate array\n",
    "    # \n",
    "    for row in csvreader:\n",
    "        # vote_id = int(row[0])\n",
    "        # county = int(row[1])\n",
    "        # candidate = str(row[2])\n",
    "        # candidate_list.append(candidate)\n",
    "        vote_data.append(row)\n",
    "        candidate_name_votes.append(row[2])\n",
    "\n",
    "# Remove duplicates form candidate_list array, to get clean list of all candidates\n",
    "candidate_list_clean = list(OrderedDict.fromkeys(candidate_name_votes))"
   ]
  },
  {
   "cell_type": "code",
   "execution_count": 29,
   "metadata": {},
   "outputs": [
    {
     "data": {
      "text/plain": [
       "{'Khan': 0, 'Correy': 0, 'Li': 0, \"O'Tooley\": 0}"
      ]
     },
     "execution_count": 29,
     "metadata": {},
     "output_type": "execute_result"
    }
   ],
   "source": [
    "candidate_list_clean\n",
    "\n",
    "# Convert list to dictionary, with 0 values (i.e votes) for each candidate\n",
    "vote_counter = dict.fromkeys(candidate_list_clean, 0)\n",
    "vote_counter"
   ]
  },
  {
   "cell_type": "code",
   "execution_count": 30,
   "metadata": {},
   "outputs": [
    {
     "ename": "KeyError",
     "evalue": "0",
     "output_type": "error",
     "traceback": [
      "\u001b[1;31m---------------------------------------------------------------------------\u001b[0m",
      "\u001b[1;31mKeyError\u001b[0m                                  Traceback (most recent call last)",
      "\u001b[1;32m~\\AppData\\Local\\Temp\\ipykernel_24672\\81525388.py\u001b[0m in \u001b[0;36m<module>\u001b[1;34m\u001b[0m\n\u001b[0;32m      2\u001b[0m \u001b[1;33m\u001b[0m\u001b[0m\n\u001b[0;32m      3\u001b[0m     \u001b[1;32mfor\u001b[0m \u001b[0mj\u001b[0m \u001b[1;32min\u001b[0m \u001b[0mrange\u001b[0m\u001b[1;33m(\u001b[0m\u001b[0mlen\u001b[0m\u001b[1;33m(\u001b[0m\u001b[0mcandidate_name_votes\u001b[0m\u001b[1;33m)\u001b[0m\u001b[1;33m)\u001b[0m\u001b[1;33m:\u001b[0m\u001b[1;33m\u001b[0m\u001b[1;33m\u001b[0m\u001b[0m\n\u001b[1;32m----> 4\u001b[1;33m         \u001b[1;32mif\u001b[0m \u001b[0mvote_counter\u001b[0m\u001b[1;33m[\u001b[0m\u001b[0mi\u001b[0m\u001b[1;33m]\u001b[0m \u001b[1;33m==\u001b[0m \u001b[0mcandidate_name_votes\u001b[0m\u001b[1;33m[\u001b[0m\u001b[0mj\u001b[0m\u001b[1;33m]\u001b[0m\u001b[1;33m:\u001b[0m\u001b[1;33m\u001b[0m\u001b[1;33m\u001b[0m\u001b[0m\n\u001b[0m\u001b[0;32m      5\u001b[0m             \u001b[0mvote_counter\u001b[0m\u001b[1;33m[\u001b[0m\u001b[0mi\u001b[0m\u001b[1;33m]\u001b[0m \u001b[1;33m+=\u001b[0m \u001b[1;36m1\u001b[0m\u001b[1;33m\u001b[0m\u001b[1;33m\u001b[0m\u001b[0m\n\u001b[0;32m      6\u001b[0m \u001b[1;33m\u001b[0m\u001b[0m\n",
      "\u001b[1;31mKeyError\u001b[0m: 0"
     ]
    }
   ],
   "source": [
    "for i in range(len(vote_counter)):\n",
    "    \n",
    "    for j in range(len(candidate_name_votes)):\n",
    "        if vote_counter[i] == candidate_name_votes[j]:\n",
    "            vote_counter[i] += 1\n",
    "    \n",
    "    vote_data.append()\n",
    "\n",
    "vote_counter\n",
    "\n",
    "\n"
   ]
  },
  {
   "cell_type": "code",
   "execution_count": 3,
   "metadata": {},
   "outputs": [],
   "source": [
    "# From array \"candidate_votes\", iterate thorugh list and if name matches new dictionary \n",
    "# name, increase counter for that candidate by 1.bit_length\n",
    "\n",
    "for vote in candidate_votes:\n",
    "    if vote == \"Correy\":\n",
    "        vote_counter[\"Correy\"] += 1\n",
    "    elif vote == \"Khan\":\n",
    "        vote_counter[\"Khan\"] += 1\n",
    "    elif vote == \"Li\":\n",
    "        vote_counter[\"Li\"] += 1\n",
    "    elif vote == \"O'Tooley\":\n",
    "        vote_counter[\"O'Tooley\"] += 1\n"
   ]
  },
  {
   "cell_type": "code",
   "execution_count": 20,
   "metadata": {},
   "outputs": [],
   "source": [
    "\n",
    "# Sort dictionary by values, so highest votes to lowest votes.\n",
    "vote_counter_sorted = dict(sorted(vote_counter.items(), key=lambda x:x[1], reverse = True))"
   ]
  },
  {
   "cell_type": "code",
   "execution_count": 4,
   "metadata": {},
   "outputs": [],
   "source": [
    "# Set variables for calcs\n",
    "votes_c = int(vote_counter[\"Correy\"])\n",
    "votes_k = int(vote_counter[\"Khan\"])\n",
    "votes_l = int(vote_counter[\"Li\"])\n",
    "votes_o = int(vote_counter[\"O'Tooley\"])\n",
    "\n",
    "# Calc percentage of votes won for each candidate\n",
    "votes_total = (votes_c + votes_k + votes_l + votes_o)       # Needs to run before following code\n",
    "percent_c = (votes_c / votes_total)\n",
    "percent_k = (votes_k / votes_total)\n",
    "percent_l = (votes_l / votes_total)\n",
    "percent_o = (votes_o / votes_total)\n",
    "\n",
    "# Create a new array of vote percentages, so can call later for displaying\n",
    "vote_percent_candidate = "
   ]
  },
  {
   "cell_type": "code",
   "execution_count": 18,
   "metadata": {},
   "outputs": [
    {
     "data": {
      "text/plain": [
       "{'Khan': 2218231, 'Correy': 704200, 'Li': 492940, \"O'Tooley\": 105630}"
      ]
     },
     "execution_count": 18,
     "metadata": {},
     "output_type": "execute_result"
    }
   ],
   "source": [
    "dict(sorted(vote_counter.items(), key=lambda x:x[1], reverse = True))"
   ]
  },
  {
   "cell_type": "code",
   "execution_count": 21,
   "metadata": {},
   "outputs": [
    {
     "name": "stdout",
     "output_type": "stream",
     "text": [
      "Election Results\n",
      "-------------------------\n",
      "Total Votes: 3521001\n",
      "-------------------------\n"
     ]
    },
    {
     "ename": "KeyError",
     "evalue": "0",
     "output_type": "error",
     "traceback": [
      "\u001b[1;31m---------------------------------------------------------------------------\u001b[0m",
      "\u001b[1;31mKeyError\u001b[0m                                  Traceback (most recent call last)",
      "\u001b[1;32m~\\AppData\\Local\\Temp\\ipykernel_24672\\3092834963.py\u001b[0m in \u001b[0;36m<module>\u001b[1;34m\u001b[0m\n\u001b[0;32m      3\u001b[0m \u001b[0mprint\u001b[0m\u001b[1;33m(\u001b[0m\u001b[1;34mf\"Total Votes: {votes_total}\"\u001b[0m\u001b[1;33m)\u001b[0m\u001b[1;33m\u001b[0m\u001b[1;33m\u001b[0m\u001b[0m\n\u001b[0;32m      4\u001b[0m \u001b[0mprint\u001b[0m\u001b[1;33m(\u001b[0m\u001b[1;34mf\"-------------------------\"\u001b[0m\u001b[1;33m)\u001b[0m\u001b[1;33m\u001b[0m\u001b[1;33m\u001b[0m\u001b[0m\n\u001b[1;32m----> 5\u001b[1;33m \u001b[0mprint\u001b[0m\u001b[1;33m(\u001b[0m\u001b[1;34mf\"Winner: {vote_counter_sorted[0]}\"\u001b[0m\u001b[1;33m)\u001b[0m\u001b[1;33m\u001b[0m\u001b[1;33m\u001b[0m\u001b[0m\n\u001b[0m\u001b[0;32m      6\u001b[0m \u001b[0mprint\u001b[0m\u001b[1;33m(\u001b[0m\u001b[1;34mf\"-------------------------\"\u001b[0m\u001b[1;33m)\u001b[0m\u001b[1;33m\u001b[0m\u001b[1;33m\u001b[0m\u001b[0m\n",
      "\u001b[1;31mKeyError\u001b[0m: 0"
     ]
    }
   ],
   "source": [
    "print(f\"Election Results\")\n",
    "print(f\"-------------------------\")\n",
    "print(f\"Total Votes: {votes_total}\")\n",
    "print(f\"-------------------------\")\n",
    "print(f\"Winner: {vote_counter_sorted[0]}\")\n",
    "print(f\"-------------------------\")\n"
   ]
  },
  {
   "cell_type": "code",
   "execution_count": null,
   "metadata": {},
   "outputs": [],
   "source": [
    "# Keep running tally of votes (by adding 1 vote), into dictionary, when candidates names"
   ]
  },
  {
   "cell_type": "code",
   "execution_count": null,
   "metadata": {},
   "outputs": [],
   "source": [
    "\n",
    "\n",
    "\n",
    "\n",
    "# Unique names\n",
    "    # for row in csvreader:\n",
    "    #     if row[2] not in Candidate_list:\n",
    "    #         Candidate_list.append(row[2])\n",
    "    # print(Candidate_list)\n",
    "\n",
    "# How many total votes cast?\n",
    "    for row in csvreader:\n",
    "        rowcount = rowcount + 1\n",
    "\n",
    "\n",
    "print(rowcount)\n",
    "# print(f\"Election Results\")\n",
    "# print(f\"-------------------------\")\n",
    "print(f\"Total Votes: {rowcount}\")\n",
    "# print(f\"-------------------------\")\n",
    "\n",
    "# Unique names\n",
    "file.close()\n"
   ]
  }
 ],
 "metadata": {
  "kernelspec": {
   "display_name": "Python 3.7.13 ('bootcamp')",
   "language": "python",
   "name": "python3"
  },
  "language_info": {
   "codemirror_mode": {
    "name": "ipython",
    "version": 3
   },
   "file_extension": ".py",
   "mimetype": "text/x-python",
   "name": "python",
   "nbconvert_exporter": "python",
   "pygments_lexer": "ipython3",
   "version": "3.7.13"
  },
  "orig_nbformat": 4,
  "vscode": {
   "interpreter": {
    "hash": "c1045dce47e268ff1365c3f603defeb0aa850c229e636842f21fdc3e170438c8"
   }
  }
 },
 "nbformat": 4,
 "nbformat_minor": 2
}
