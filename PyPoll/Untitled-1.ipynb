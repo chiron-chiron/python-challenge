{
 "cells": [
  {
   "cell_type": "code",
   "execution_count": 1,
   "metadata": {},
   "outputs": [],
   "source": [
    "import os\n",
    "import csv\n",
    "\n",
    "# Set file for path\n",
    "# election_data = 'Resources/book2.csv'\n",
    "csvpath = os.path.join(\"Resources\", \"election_data.csv\")\n",
    "\n",
    "\n",
    "\n",
    "# Set variable\n",
    "rowcount = 0                # Integer counting number of votes\n",
    "voter_ID = []               \n",
    "county = []\n",
    "candidate_list = []\n",
    "vote_data = []\n",
    "candidate_votes = []\n",
    "\n",
    "# Dictionary of each candidates votes\n",
    "counter = {\n",
    "    \"Correy\": 0,\n",
    "    \"Khan\": 0,\n",
    "    \"Li\": 0,\n",
    "    \"O'Tooley\": 0\n",
    "}"
   ]
  },
  {
   "cell_type": "code",
   "execution_count": 2,
   "metadata": {},
   "outputs": [],
   "source": [
    "# Set file for path\n",
    "# election_data = 'Resources/book2.csv'\n",
    "csvpath = os.path.join(\"Resources\", \"election_data.csv\")\n",
    "\n",
    "# Open the csv file in read mode\n",
    "with open(csvpath) as csvfile:\n",
    "    csvreader = csv.reader(csvfile, delimiter=\",\")\n",
    "    csv_header = next(csvreader)                #Skip header and read remainder of data\n",
    "    \n",
    "    # Print csv file into vote_date, and print candidate name from votes, into seperate array\n",
    "    for row in csvreader:\n",
    "        vote_data.append(row)\n",
    "        candidate_votes.append(row[2])"
   ]
  },
  {
   "cell_type": "code",
   "execution_count": 3,
   "metadata": {},
   "outputs": [],
   "source": [
    "# From array \"candidate_votes\", iterate thorugh list and if name matches new dictionary \n",
    "# name, increase counter for that candidate by 1.bit_length\n",
    "\n",
    "for vote in candidate_votes:\n",
    "    if vote == \"Correy\":\n",
    "        counter[\"Correy\"] += 1\n",
    "    elif vote == \"Khan\":\n",
    "        counter[\"Khan\"] += 1\n",
    "    elif vote == \"Li\":\n",
    "        counter[\"Li\"] += 1\n",
    "    elif vote == \"O'Tooley\":\n",
    "        counter[\"O'Tooley\"] += 1"
   ]
  },
  {
   "cell_type": "code",
   "execution_count": 4,
   "metadata": {},
   "outputs": [
    {
     "data": {
      "text/plain": [
       "{'Correy': 704200, 'Khan': 2218231, 'Li': 492940, \"O'Tooley\": 105630}"
      ]
     },
     "execution_count": 4,
     "metadata": {},
     "output_type": "execute_result"
    }
   ],
   "source": [
    "# Set variables for calcs\n",
    "votes_c = int(counter[\"Correy\"])\n",
    "votes_k = int(counter[\"Khan\"])\n",
    "votes_l = int(counter[\"Li\"])\n",
    "votes_o = int(counter[\"O'Tooley\"])\n",
    "\n",
    "# Calc percentage of votes won for each candidate\n",
    "votes_total = (votes_c + votes_k + votes_l + votes_o)       # Needs to run before following code\n",
    "percent_c = (votes_c / votes_total)\n",
    "percent_k = (votes_k / votes_total)\n",
    "percent_l = (votes_l / votes_total)\n",
    "percent_o = (votes_o / votes_total)\n"
   ]
  },
  {
   "cell_type": "code",
   "execution_count": null,
   "metadata": {},
   "outputs": [],
   "source": [
    "print(f\"Election Results\")\n",
    "print(f\"-------------------------\")\n",
    "print(f\"Total Votes: {votes_total}\")\n",
    "print(f\"-------------------------\")\n"
   ]
  },
  {
   "cell_type": "code",
   "execution_count": null,
   "metadata": {},
   "outputs": [],
   "source": [
    "# Keep running tally of votes (by adding 1 vote), into dictionary, when candidates names"
   ]
  },
  {
   "cell_type": "code",
   "execution_count": null,
   "metadata": {},
   "outputs": [],
   "source": [
    "\n",
    "\n",
    "\n",
    "\n",
    "# Unique names\n",
    "    # for row in csvreader:\n",
    "    #     if row[2] not in Candidate_list:\n",
    "    #         Candidate_list.append(row[2])\n",
    "    # print(Candidate_list)\n",
    "\n",
    "# How many total votes cast?\n",
    "    for row in csvreader:\n",
    "        rowcount = rowcount + 1\n",
    "\n",
    "\n",
    "print(rowcount)\n",
    "# print(f\"Election Results\")\n",
    "# print(f\"-------------------------\")\n",
    "print(f\"Total Votes: {rowcount}\")\n",
    "# print(f\"-------------------------\")\n",
    "\n",
    "# Unique names\n",
    "file.close()\n"
   ]
  }
 ],
 "metadata": {
  "kernelspec": {
   "display_name": "Python 3.7.13 ('bootcamp')",
   "language": "python",
   "name": "python3"
  },
  "language_info": {
   "codemirror_mode": {
    "name": "ipython",
    "version": 3
   },
   "file_extension": ".py",
   "mimetype": "text/x-python",
   "name": "python",
   "nbconvert_exporter": "python",
   "pygments_lexer": "ipython3",
   "version": "3.7.13"
  },
  "orig_nbformat": 4,
  "vscode": {
   "interpreter": {
    "hash": "c1045dce47e268ff1365c3f603defeb0aa850c229e636842f21fdc3e170438c8"
   }
  }
 },
 "nbformat": 4,
 "nbformat_minor": 2
}
