{
 "cells": [
  {
   "cell_type": "code",
   "execution_count": 1,
   "metadata": {},
   "outputs": [],
   "source": [
    "# Import dependencies\n",
    "import os\n",
    "import csv\n",
    "\n",
    "# Set path for file\n",
    "budget_data = 'Resources/budget_data.csv'\n",
    "\n",
    "# Set path for creating new text file\n",
    "text_file = os.path.join(\"Analysis\", \"pybank_analysis.txt\")"
   ]
  },
  {
   "cell_type": "code",
   "execution_count": 3,
   "metadata": {},
   "outputs": [],
   "source": [
    "# Set variables \n",
    "month_count = 0                         # Integer counting number of months in data\n",
    "p_and_l = 0                             # Integer of running Profit and loss actual\n",
    "pl_month_change = 0                     # Profit/loss (change), from prior month. Resets each iteration\n",
    "pl_month_change_all = []                # Profit/loss (change), from prior month. Permanent\n",
    "pl_month_actual = 0                     # Array of, Profit/loss (current month). Resets each iteration\n",
    "pl_month_actual_all = []                # Array of, all Profit/loss (monthly). Permanent\n",
    "month_date_all =[]                      # Array of, all Month dates. Permanent"
   ]
  },
  {
   "cell_type": "code",
   "execution_count": 4,
   "metadata": {},
   "outputs": [],
   "source": [
    "# Open the csv file in read mode\n",
    "with open(budget_data) as csvfile:\n",
    "    csvreader = csv.reader(csvfile, delimiter=\",\")\n",
    "    #Skip header and read remainder of data:\n",
    "    header = next(csvreader)\n",
    "    \n",
    "    # Calc total profit by summing monthly p/l, and calc number of rows.\n",
    "    for row in csvreader:\n",
    "        month_date = str(row[0])                        # Capture month date\n",
    "        month_date_all.append(month_date)               # Append current month date, into an array of all month dates\n",
    "        month_count = month_count + 1                   # Track no. of months\n",
    "        pl_month_actual = (int(row[1]))                 # Current month P/L. Load current into a singular array\n",
    "        pl_month_actual_all.append(pl_month_actual)     # Append current month P/L to array for all months\n",
    "        p_and_l = p_and_l + int(row[1])                 # Running sum of P/L"
   ]
  },
  {
   "cell_type": "code",
   "execution_count": 7,
   "metadata": {},
   "outputs": [],
   "source": [
    "# Retrieve/Calc profit/loss monthly change\n",
    "\n",
    "for i in range(month_count - 1):\n",
    "    pl_month_change = pl_month_actual_all[i+1] - pl_month_actual_all[i]\n",
    "    pl_month_change_all.append(pl_month_change)"
   ]
  },
  {
   "cell_type": "code",
   "execution_count": 8,
   "metadata": {},
   "outputs": [],
   "source": [
    "# Further calcs\n",
    "avg_change = round(sum(pl_month_change_all) / len(pl_month_change_all), 2)\n",
    "max_change = max(pl_month_change_all)\n",
    "min_change = min(pl_month_change_all)\n",
    "\n",
    "# Retrieve index value for max,min profit change months\n",
    "max_change_month = pl_month_change_all.index(max_change) + 1\n",
    "min_change_month = pl_month_change_all.index(min_change) + 1"
   ]
  },
  {
   "cell_type": "code",
   "execution_count": 9,
   "metadata": {},
   "outputs": [
    {
     "name": "stdout",
     "output_type": "stream",
     "text": [
      "Financial Analysis\n",
      "----------------------------\n",
      "Total Months: 86\n",
      "Total: $38382578\n",
      "Average Change: $-2315.12\n",
      "Greatest Increase in Profits: Feb-12 ($1926159)\n",
      "Greatest Decrease in Profits: Sep-13 ($-2196167)\n"
     ]
    }
   ],
   "source": [
    "\n",
    "# Analysis\n",
    "print(f\"Financial Analysis\")\n",
    "print(f\"----------------------------\")\n",
    "print(\"Total Months: \" + str(month_count))\n",
    "print(f\"Total: ${p_and_l}\")\n",
    "print(f\"Average Change: ${avg_change}\")\n",
    "print(f\"Greatest Increase in Profits: {month_date_all[max_change_month]} (${max_change})\")\n",
    "print(f\"Greatest Decrease in Profits: {month_date_all[min_change_month]} (${min_change})\")"
   ]
  },
  {
   "cell_type": "code",
   "execution_count": 14,
   "metadata": {},
   "outputs": [
    {
     "ename": "AttributeError",
     "evalue": "'_io.TextIOWrapper' object has no attribute 'writelinese'",
     "output_type": "error",
     "traceback": [
      "\u001b[1;31m---------------------------------------------------------------------------\u001b[0m",
      "\u001b[1;31mAttributeError\u001b[0m                            Traceback (most recent call last)",
      "\u001b[1;32m~\\AppData\\Local\\Temp\\ipykernel_16772\\502546000.py\u001b[0m in \u001b[0;36m<module>\u001b[1;34m\u001b[0m\n\u001b[0;32m      1\u001b[0m \u001b[1;31m# Create a new text file and write output to file:\u001b[0m\u001b[1;33m\u001b[0m\u001b[1;33m\u001b[0m\u001b[1;33m\u001b[0m\u001b[0m\n\u001b[0;32m      2\u001b[0m \u001b[1;32mwith\u001b[0m \u001b[0mopen\u001b[0m\u001b[1;33m(\u001b[0m\u001b[0mtext_file\u001b[0m\u001b[1;33m,\u001b[0m \u001b[1;34m\"w\"\u001b[0m\u001b[1;33m)\u001b[0m \u001b[1;32mas\u001b[0m \u001b[0mout_file\u001b[0m\u001b[1;33m:\u001b[0m\u001b[1;33m\u001b[0m\u001b[1;33m\u001b[0m\u001b[0m\n\u001b[1;32m----> 3\u001b[1;33m     out_file.writelinese(\"Financial Analysis\"\n\u001b[0m\u001b[0;32m      4\u001b[0m                           \u001b[1;34m\"----------------------------\"\u001b[0m\u001b[1;33m\u001b[0m\u001b[1;33m\u001b[0m\u001b[0m\n\u001b[0;32m      5\u001b[0m                           \u001b[1;34m\"Total Months: {month_count}\"\u001b[0m\u001b[1;33m\u001b[0m\u001b[1;33m\u001b[0m\u001b[0m\n",
      "\u001b[1;31mAttributeError\u001b[0m: '_io.TextIOWrapper' object has no attribute 'writelinese'"
     ]
    }
   ],
   "source": [
    "# # Create a new text file and write output to file:\n",
    "# with open(text_file, \"w\") as out_file:\n",
    "#     out_file.writelinese(\"Financial Analysis\"\n",
    "#                           \"----------------------------\"\n",
    "#                           \"Total Months: {month_count}\"\n",
    "#                           \"Total: ${p_and_l}\"\n",
    "#                           \"Average Change: ${avg_change}\"\n",
    "#                           \"Greatest Increase in Profits: {month_date_all[max_change_month]} (${max_change})\"\n",
    "#                           \"Greatest Decrease in Profits: {month_date_all[min_change_month]} (${min_change})\"\n",
    "#     )"
   ]
  }
 ],
 "metadata": {
  "kernelspec": {
   "display_name": "Python 3.7.13 ('bootcamp')",
   "language": "python",
   "name": "python3"
  },
  "language_info": {
   "codemirror_mode": {
    "name": "ipython",
    "version": 3
   },
   "file_extension": ".py",
   "mimetype": "text/x-python",
   "name": "python",
   "nbconvert_exporter": "python",
   "pygments_lexer": "ipython3",
   "version": "3.7.13"
  },
  "orig_nbformat": 4,
  "vscode": {
   "interpreter": {
    "hash": "c1045dce47e268ff1365c3f603defeb0aa850c229e636842f21fdc3e170438c8"
   }
  }
 },
 "nbformat": 4,
 "nbformat_minor": 2
}
