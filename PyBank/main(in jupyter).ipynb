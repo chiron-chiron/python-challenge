{
 "cells": [
  {
   "cell_type": "code",
   "execution_count": 45,
   "metadata": {},
   "outputs": [
    {
     "name": "stdout",
     "output_type": "stream",
     "text": [
      "Financial Analysis\n",
      "----------------------------\n",
      "Total Months: 86\n",
      "Total: $38382578\n"
     ]
    }
   ],
   "source": [
    "# **Q1** How many months of data?\n",
    "# 1st Import dependencies\n",
    "import os\n",
    "import csv\n",
    "\n",
    "# Set variables\n",
    "rowcount = 0        #B/c using next.., this can start at 0. Integer\n",
    "pandl = 0           #Profit and loss\n",
    "changein = 0        #Change in profit from m to m. Temp counter, resets every loop\n",
    "changein_list = []  #Array of each monthly change in profit. Permanent.\n",
    "\n",
    "# Set path for file\n",
    "budget_data = 'Resources/budget_data.csv'\n",
    "\n",
    "# Open the csv file in read mode\n",
    "with open(budget_data) as csvfile:\n",
    "    csvreader = csv.reader(csvfile, delimiter=\",\")\n",
    "    \n",
    "    header = next(csvreader)    #Skip header and read remainder of data\n",
    "    \n",
    "    for row in csvreader:\n",
    "        rowcount = rowcount + 1\n",
    "        pandl = (pandl + int(row[1]))       #used int, as raw data doesn't show decimals\n",
    "        \n",
    "    for index, row in enumerate(row, start=2):\n",
    "        changein = row - row[-1]\n",
    "                \n",
    "        #Retrieve change in monthly profit, current - previous, starting from row 3\n",
    "        #  = int(row)\n",
    "        #  append.changein_list\n",
    "        \n",
    "\n",
    "\n",
    "print(f\"Financial Analysis\")\n",
    "print(f\"----------------------------\")\n",
    "print(\"Total Months: \" + str(rowcount))\n",
    "print(f\"Total: ${pandl}\")\n",
    "# print(f\"Average Change: {}\")\n",
    "# print(f\"Greatest Increase in Profits: {} (${})\")\n",
    "# print(f\"Greatest Decrease in Profits: {} (${})\")\n"
   ]
  },
  {
   "cell_type": "code",
   "execution_count": 57,
   "metadata": {},
   "outputs": [
    {
     "ename": "TypeError",
     "evalue": "'_io.TextIOWrapper' object is not subscriptable",
     "output_type": "error",
     "traceback": [
      "\u001b[1;31m---------------------------------------------------------------------------\u001b[0m",
      "\u001b[1;31mTypeError\u001b[0m                                 Traceback (most recent call last)",
      "\u001b[1;32m~\\AppData\\Local\\Temp\\ipykernel_15984\\3875573056.py\u001b[0m in \u001b[0;36m<module>\u001b[1;34m\u001b[0m\n\u001b[0;32m     15\u001b[0m \u001b[1;32mwith\u001b[0m \u001b[0mopen\u001b[0m\u001b[1;33m(\u001b[0m\u001b[0mbudget_data\u001b[0m\u001b[1;33m)\u001b[0m \u001b[1;32mas\u001b[0m \u001b[0mcsvfile\u001b[0m\u001b[1;33m:\u001b[0m\u001b[1;33m\u001b[0m\u001b[1;33m\u001b[0m\u001b[0m\n\u001b[0;32m     16\u001b[0m \u001b[1;33m\u001b[0m\u001b[0m\n\u001b[1;32m---> 17\u001b[1;33m     \u001b[1;32mfor\u001b[0m \u001b[0mindex\u001b[0m\u001b[1;33m,\u001b[0m \u001b[0melement\u001b[0m \u001b[1;32min\u001b[0m \u001b[0menumerate\u001b[0m\u001b[1;33m(\u001b[0m\u001b[0mcsvfile\u001b[0m\u001b[1;33m[\u001b[0m\u001b[1;36m1\u001b[0m\u001b[1;33m:\u001b[0m\u001b[1;33m]\u001b[0m\u001b[1;33m)\u001b[0m\u001b[1;33m:\u001b[0m\u001b[1;33m\u001b[0m\u001b[1;33m\u001b[0m\u001b[0m\n\u001b[0m\u001b[0;32m     18\u001b[0m         \u001b[0moutput\u001b[0m\u001b[1;33m.\u001b[0m\u001b[0mappend\u001b[0m\u001b[1;33m(\u001b[0m\u001b[0mint\u001b[0m\u001b[1;33m(\u001b[0m\u001b[0melement\u001b[0m\u001b[1;33m[\u001b[0m\u001b[1;36m1\u001b[0m\u001b[1;33m]\u001b[0m \u001b[1;33m-\u001b[0m \u001b[0mint\u001b[0m\u001b[1;33m(\u001b[0m\u001b[0mdata\u001b[0m\u001b[1;33m[\u001b[0m\u001b[0mindex\u001b[0m\u001b[1;33m]\u001b[0m\u001b[1;33m[\u001b[0m\u001b[1;36m1\u001b[0m\u001b[1;33m]\u001b[0m\u001b[1;33m)\u001b[0m\u001b[1;33m)\u001b[0m\u001b[1;33m)\u001b[0m\u001b[1;33m\u001b[0m\u001b[1;33m\u001b[0m\u001b[0m\n\u001b[0;32m     19\u001b[0m \u001b[1;33m\u001b[0m\u001b[0m\n",
      "\u001b[1;31mTypeError\u001b[0m: '_io.TextIOWrapper' object is not subscriptable"
     ]
    }
   ],
   "source": [
    "import os\n",
    "import csv\n",
    "from csv import DictReader\n",
    "\n",
    "# Set variables\n",
    "rowcount = 0        #B/c using next.., this can start at 0. Integer\n",
    "pandl = 0           #Profit and loss\n",
    "changein = 0        #Change in profit from m to m. Temp counter, resets every loop\n",
    "changein_list = []  #Array of each monthly change in profit. Permanent.\n",
    "\n",
    "# Set path for file\n",
    "budget_data = 'Resources/budget_data.csv'\n",
    "\n",
    "# Open the csv file in read mode\n",
    "with open(budget_data) as csvfile:\n",
    "\n",
    "    for index, element in enumerate(csvfile[1:]):\n",
    "        output.append(int(element[1] - int(data[index][1])))\n",
    "\n",
    "\n",
    "\n",
    "\n",
    "    # csvreader = csv.reader(csvfile, delimiter=\",\")\n",
    "    # csvreader_dict = DictReader(csvfile)\n",
    "    # data = [int(row['Profit/Losses']) for row in rows]\n",
    "    \n",
    "    # for row in csvreader_dict:\n",
    "    #     pandl = row[1] - row[-1]\n",
    "    #     print(row)\n",
    "    \n",
    "\n",
    "\n",
    "\n",
    "\n",
    "\n",
    "\n",
    "# for index, row in enumerate(csvfile, start=2):\n",
    "#         changein = float(row) - float(row[-1])"
   ]
  },
  {
   "cell_type": "code",
   "execution_count": 58,
   "metadata": {},
   "outputs": [
    {
     "name": "stdout",
     "output_type": "stream",
     "text": [
      "[116771, -662642, -391430, 379920, 212354, 510239, -428211, -821271, 693918, 416278, -974163, 860159, -1115009, 1033048, 95318, -308093, 99052, -521393, 605450, 231727, -65187, -702716, 177975, -1065544, 1926159, -917805, 898730, -334262, -246499, -64055, -1529236, 1497596, 304914, -635801, 398319, -183161, -37864, -253689, 403655, 94168, 306877, -83000, 210462, -2196167, 1465222, -956983, 1838447, -468003, -64602, 206242, -242155, -449079, 315198, 241099, 111540, 365942, -219310, -368665, 409837, 151210, -110244, -341938, -1212159, 683246, -70825, 335594, 417334, -272194, -236462, 657432, -211262, -128237, -1750387, 925441, 932089, -311434, 267252, -1876758, 1733696, 198551, -665765, 693229, -734926, 77242, 532869]\n",
      "-2315.1176470588234\n"
     ]
    }
   ],
   "source": [
    "import os\n",
    "import csv\n",
    "\n",
    "budget_data = 'Resources/budget_data.csv'\n",
    "\n",
    "with open(budget_data, \"r\") as f:\n",
    "    lines = f.readlines()\n",
    "\n",
    "data = []\n",
    "\n",
    "for line in lines[1:]: #don't read the first line containing month and amount\n",
    "    line = line.strip(\"\\n\") #erase the newline character from each line\n",
    "    data.append(line.split(\",\")) #split the lines using the comma as a delimiter\n",
    "\n",
    "output = []\n",
    "for index,element in enumerate(data[1:]): #we start in the second element because we will subtract the first one\n",
    "    output.append(int(element[1])-int(data[index][1]))\n",
    "\n",
    "average = sum(output)/len(output)\n",
    "\n",
    "print(output)\n",
    "print(average)"
   ]
  }
 ],
 "metadata": {
  "interpreter": {
   "hash": "c1045dce47e268ff1365c3f603defeb0aa850c229e636842f21fdc3e170438c8"
  },
  "kernelspec": {
   "display_name": "Python 3.7.13 ('bootcamp')",
   "language": "python",
   "name": "python3"
  },
  "language_info": {
   "codemirror_mode": {
    "name": "ipython",
    "version": 3
   },
   "file_extension": ".py",
   "mimetype": "text/x-python",
   "name": "python",
   "nbconvert_exporter": "python",
   "pygments_lexer": "ipython3",
   "version": "3.7.13"
  },
  "orig_nbformat": 4
 },
 "nbformat": 4,
 "nbformat_minor": 2
}
