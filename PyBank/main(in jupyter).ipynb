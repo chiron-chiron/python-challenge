{
 "cells": [
  {
   "cell_type": "code",
   "execution_count": 184,
   "metadata": {},
   "outputs": [
    {
     "name": "stdout",
     "output_type": "stream",
     "text": [
      "Financial Analysis\n",
      "----------------------------\n",
      "Total Months: 86\n",
      "Total: $38382578\n",
      "Average Change: $-2,315.12\n"
     ]
    },
    {
     "ename": "TypeError",
     "evalue": "'int' object is not callable",
     "output_type": "error",
     "traceback": [
      "\u001b[1;31m---------------------------------------------------------------------------\u001b[0m",
      "\u001b[1;31mTypeError\u001b[0m                                 Traceback (most recent call last)",
      "\u001b[1;32m~\\AppData\\Local\\Temp\\ipykernel_15984\\887083307.py\u001b[0m in \u001b[0;36m<module>\u001b[1;34m\u001b[0m\n\u001b[0;32m     61\u001b[0m \u001b[1;33m\u001b[0m\u001b[0m\n\u001b[0;32m     62\u001b[0m \u001b[0mnumber_list\u001b[0m \u001b[1;33m=\u001b[0m \u001b[0mpl_change\u001b[0m\u001b[1;33m\u001b[0m\u001b[1;33m\u001b[0m\u001b[0m\n\u001b[1;32m---> 63\u001b[1;33m \u001b[0mmax_value\u001b[0m \u001b[1;33m=\u001b[0m \u001b[0mmax\u001b[0m\u001b[1;33m(\u001b[0m\u001b[0mnumber_list\u001b[0m\u001b[1;33m)\u001b[0m\u001b[1;33m\u001b[0m\u001b[1;33m\u001b[0m\u001b[0m\n\u001b[0m\u001b[0;32m     64\u001b[0m \u001b[0mmax_index\u001b[0m \u001b[1;33m=\u001b[0m \u001b[0mnumber_list\u001b[0m\u001b[1;33m.\u001b[0m\u001b[0mindex\u001b[0m\u001b[1;33m(\u001b[0m\u001b[0mmax_value\u001b[0m\u001b[1;33m)\u001b[0m\u001b[1;33m\u001b[0m\u001b[1;33m\u001b[0m\u001b[0m\n\u001b[0;32m     65\u001b[0m \u001b[0mprint\u001b[0m\u001b[1;33m(\u001b[0m\u001b[0mmax_index\u001b[0m\u001b[1;33m)\u001b[0m\u001b[1;33m\u001b[0m\u001b[1;33m\u001b[0m\u001b[0m\n",
      "\u001b[1;31mTypeError\u001b[0m: 'int' object is not callable"
     ]
    }
   ],
   "source": [
    "# **Q1** How many months of data?\n",
    "# 1st Import dependencies\n",
    "import os\n",
    "import csv\n",
    "\n",
    "# Set variables\n",
    "rowcount = 0        #B/c using next.., this can start at 0. Integer\n",
    "pandl = 0           #Profit and loss\n",
    "changein = 0        #Change in profit from m to m. Temp counter, resets every loop\n",
    "changein_list = []  #Array of each monthly change in profit. Permanent.\n",
    "\n",
    "# Set path for file\n",
    "budget_data = 'Resources/budget_data.csv'\n",
    "\n",
    "# Open the csv file in read mode\n",
    "with open(budget_data) as csvfile:\n",
    "    csvreader = csv.reader(csvfile, delimiter=\",\")\n",
    "    \n",
    "    header = next(csvreader)    #Skip header and read remainder of data\n",
    "    \n",
    "    for row in csvreader:\n",
    "        rowcount = rowcount + 1\n",
    "        pandl = (pandl + int(row[1]))       #used int, as raw data doesn't show decimals\n",
    "        \n",
    "\n",
    "\n",
    "\n",
    "\n",
    "    # Open csv file, prep for reading, delimit on comma, skip header\n",
    "    # Put monthly pl data into list\n",
    "    # with open(budget_data, newline='') as csvfile:\n",
    "    #     reader = csv.reader(csvfile, delimiter=\",\")\n",
    "    #     next(reader)                                                    #Skip header row\n",
    "    #     pl_monthly = list(reader)\n",
    "\n",
    "    #Capture difference b/w monthly profit/loss amounts\n",
    "    pl_change = []\n",
    "    for index,element in enumerate(pl_monthly[1:]):                 #[1:] does loop on numbers field, ignores month\n",
    "        pl_change.append(int(element[1])-int(pl_monthly[index][1])) # element 1 is 2nd number, index 1 is first number in list\n",
    "\n",
    "    average = sum(pl_change)/len(pl_change)                         #Divide 85, b/c calcs start from 2nd month, to find m:m change\n",
    "    average_formatted = \"${:,.2f}\".format(average)\n",
    "    # max_formatted = \"${:,.2f}\".format(max)\n",
    "    # max_value = max(pl_change)\n",
    "\n",
    "    # print(pl_change)\n",
    "    # print(f\"Average Change: {average_formatted}\")\n",
    "    # print(pl_monthly)\n",
    "    # print(f\"Greatest Increase in Profits: {max_formatted}\")\n",
    "\n",
    "\n",
    "\n",
    "print(f\"Financial Analysis\")\n",
    "print(f\"----------------------------\")\n",
    "print(\"Total Months: \" + str(rowcount))\n",
    "print(f\"Total: ${pandl}\")\n",
    "print(f\"Average Change: {average_formatted}\")\n",
    "# print(f\"Average Change: {}\")\n",
    "# print(f\"Greatest Increase in Profits: {} (${})\")\n",
    "# print(f\"Greatest Decrease in Profits: {} (${})\")\n",
    "\n",
    "number_list = pl_change\n",
    "max_value = max(number_list)\n",
    "max_index = number_list.index(max_value)\n",
    "print(max_index)\n"
   ]
  },
  {
   "cell_type": "code",
   "execution_count": 144,
   "metadata": {},
   "outputs": [
    {
     "name": "stdout",
     "output_type": "stream",
     "text": [
      "['867884', '984655', '322013', '-69417', '310503', '522857', '1033096', '604885', '-216386', '477532', '893810', '-80353', '779806', '-335203', '697845', '793163', '485070', '584122', '62729', '668179', '899906', '834719', '132003', '309978', '-755566', '1170593', '252788', '1151518', '817256', '570757', '506702', '-1022534', '475062', '779976', '144175', '542494', '359333', '321469', '67780', '471435', '565603', '872480', '789480', '999942', '-1196225', '268997', '-687986', '1150461', '682458', '617856', '824098', '581943', '132864', '448062', '689161', '800701', '1166643', '947333', '578668', '988505', '1139715', '1029471', '687533', '-524626', '158620', '87795', '423389', '840723', '568529', '332067', '989499', '778237', '650000', '-1100387', '-174946', '757143', '445709', '712961', '-1163797', '569899', '768450', '102685', '795914', '60988', '138230', '671099']\n",
      "[0, 0, 0, 0, 0, 0, 0, 0, 0, 0, 0, 0, 0, 0, 0, 0, 0, 0, 0, 0, 0, 0, 0, 0, 0, 0, 0, 0, 0, 0, 0, 0, 0, 0, 0, 0, 0, 0, 0, 0, 0, 0, 0, 0, 0, 0, 0, 0, 0, 0, 0, 0, 0, 0, 0, 0, 0, 0, 0, 0, 0, 0, 0, 0, 0, 0, 0, 0, 0, 0, 0, 0, 0, 0, 0, 0, 0, 0, 0, 0, 0, 0, 0, 0, 0, 0]\n",
      "0.0\n",
      "[0, 0, 0, 0, 0, 0, 0, 0, 0, 0, 0, 0, 0, 0, 0, 0, 0, 0, 0, 0, 0, 0, 0, 0, 0, 0, 0, 0, 0, 0, 0, 0, 0, 0, 0, 0, 0, 0, 0, 0, 0, 0, 0, 0, 0, 0, 0, 0, 0, 0, 0, 0, 0, 0, 0, 0, 0, 0, 0, 0, 0, 0, 0, 0, 0, 0, 0, 0, 0, 0, 0, 0, 0, 0, 0, 0, 0, 0, 0, 0, 0, 0, 0, 0, 0, 0]\n"
     ]
    }
   ],
   "source": [
    "# Dependencies\n",
    "import csv\n",
    "import os\n",
    " \n",
    "# open the file in read mode\n",
    "csvfile = open('Resources/budget_data.csv', 'r')\n",
    "\n",
    " \n",
    "# Use dictionary reader to create structure of raw data, ready for manipulation\n",
    "file = csv.DictReader(csvfile)\n",
    " \n",
    "# Set variable for appending monthly profit\n",
    "pandl = []                  #List of all P/L values for each month, in a list\n",
    "changeinpl_list = []        #Capture the monthly change in P/L as a list\n",
    " \n",
    "# iterating over each row and append\n",
    "# values to empty list\n",
    "for col in file:\n",
    "    pandl.append(col['Profit/Losses'])      # DictReader allows to call column be referring to header name.\n",
    " \n",
    "# printing lists\n",
    "print(pandl)\n",
    "\n",
    "for index,element in enumerate(pandl): #we start in the second element because we will subtract the first one\n",
    "    changeinpl_list.append(int(element[1])-int(pandl[index][1]))\n",
    "\n",
    "average = sum(changeinpl_list)/len(changeinpl_list)\n",
    "\n",
    "print(changeinpl_list)\n",
    "print(average)\n",
    "\n",
    "# Doesn't work\n",
    "# new_changeinpl_list = []\n",
    "# for x in changeinpl_list:\n",
    "#     new_changeinpl_list.append(int(x))\n",
    "\n",
    "\n",
    "\n",
    "new_changeinpl_list = [int(x) for x in changeinpl_list]\n",
    "print(new_changeinpl_list)\n"
   ]
  },
  {
   "cell_type": "code",
   "execution_count": null,
   "metadata": {},
   "outputs": [],
   "source": []
  },
  {
   "cell_type": "code",
   "execution_count": 170,
   "metadata": {},
   "outputs": [
    {
     "name": "stdout",
     "output_type": "stream",
     "text": [
      "Average Change: $-2,315.12\n",
      "[['Jan-10', '867884'], ['Feb-10', '984655'], ['Mar-10', '322013'], ['Apr-10', '-69417'], ['May-10', '310503'], ['Jun-10', '522857'], ['Jul-10', '1033096'], ['Aug-10', '604885'], ['Sep-10', '-216386'], ['Oct-10', '477532'], ['Nov-10', '893810'], ['Dec-10', '-80353'], ['Jan-11', '779806'], ['Feb-11', '-335203'], ['Mar-11', '697845'], ['Apr-11', '793163'], ['May-11', '485070'], ['Jun-11', '584122'], ['Jul-11', '62729'], ['Aug-11', '668179'], ['Sep-11', '899906'], ['Oct-11', '834719'], ['Nov-11', '132003'], ['Dec-11', '309978'], ['Jan-12', '-755566'], ['Feb-12', '1170593'], ['Mar-12', '252788'], ['Apr-12', '1151518'], ['May-12', '817256'], ['Jun-12', '570757'], ['Jul-12', '506702'], ['Aug-12', '-1022534'], ['Sep-12', '475062'], ['Oct-12', '779976'], ['Nov-12', '144175'], ['Dec-12', '542494'], ['Jan-13', '359333'], ['Feb-13', '321469'], ['Mar-13', '67780'], ['Apr-13', '471435'], ['May-13', '565603'], ['Jun-13', '872480'], ['Jul-13', '789480'], ['Aug-13', '999942'], ['Sep-13', '-1196225'], ['Oct-13', '268997'], ['Nov-13', '-687986'], ['Dec-13', '1150461'], ['Jan-14', '682458'], ['Feb-14', '617856'], ['Mar-14', '824098'], ['Apr-14', '581943'], ['May-14', '132864'], ['Jun-14', '448062'], ['Jul-14', '689161'], ['Aug-14', '800701'], ['Sep-14', '1166643'], ['Oct-14', '947333'], ['Nov-14', '578668'], ['Dec-14', '988505'], ['Jan-15', '1139715'], ['Feb-15', '1029471'], ['Mar-15', '687533'], ['Apr-15', '-524626'], ['May-15', '158620'], ['Jun-15', '87795'], ['Jul-15', '423389'], ['Aug-15', '840723'], ['Sep-15', '568529'], ['Oct-15', '332067'], ['Nov-15', '989499'], ['Dec-15', '778237'], ['Jan-16', '650000'], ['Feb-16', '-1100387'], ['Mar-16', '-174946'], ['Apr-16', '757143'], ['May-16', '445709'], ['Jun-16', '712961'], ['Jul-16', '-1163797'], ['Aug-16', '569899'], ['Sep-16', '768450'], ['Oct-16', '102685'], ['Nov-16', '795914'], ['Dec-16', '60988'], ['Jan-17', '138230'], ['Feb-17', '671099']]\n",
      "[116771, -662642, -391430, 379920, 212354, 510239, -428211, -821271, 693918, 416278, -974163, 860159, -1115009, 1033048, 95318, -308093, 99052, -521393, 605450, 231727, -65187, -702716, 177975, -1065544, 1926159, -917805, 898730, -334262, -246499, -64055, -1529236, 1497596, 304914, -635801, 398319, -183161, -37864, -253689, 403655, 94168, 306877, -83000, 210462, -2196167, 1465222, -956983, 1838447, -468003, -64602, 206242, -242155, -449079, 315198, 241099, 111540, 365942, -219310, -368665, 409837, 151210, -110244, -341938, -1212159, 683246, -70825, 335594, 417334, -272194, -236462, 657432, -211262, -128237, -1750387, 925441, 932089, -311434, 267252, -1876758, 1733696, 198551, -665765, 693229, -734926, 77242, 532869]\n",
      "[116771, -662642, -391430, 379920, 212354, 510239, -428211, -821271, 693918, 416278, -974163, 860159, -1115009, 1033048, 95318, -308093, 99052, -521393, 605450, 231727, -65187, -702716, 177975, -1065544, 1926159, -917805, 898730, -334262, -246499, -64055, -1529236, 1497596, 304914, -635801, 398319, -183161, -37864, -253689, 403655, 94168, 306877, -83000, 210462, -2196167, 1465222, -956983, 1838447, -468003, -64602, 206242, -242155, -449079, 315198, 241099, 111540, 365942, -219310, -368665, 409837, 151210, -110244, -341938, -1212159, 683246, -70825, 335594, 417334, -272194, -236462, 657432, -211262, -128237, -1750387, 925441, 932089, -311434, 267252, -1876758, 1733696, 198551, -665765, 693229, -734926, 77242, 532869]\n",
      "Maximum value: [116771, -662642, -391430, 379920, 212354, 510239, -428211, -821271, 693918, 416278, -974163, 860159, -1115009, 1033048, 95318, -308093, 99052, -521393, 605450, 231727, -65187, -702716, 177975, -1065544, 1926159, -917805, 898730, -334262, -246499, -64055, -1529236, 1497596, 304914, -635801, 398319, -183161, -37864, -253689, 403655, 94168, 306877, -83000, 210462, -2196167, 1465222, -956983, 1838447, -468003, -64602, 206242, -242155, -449079, 315198, 241099, 111540, 365942, -219310, -368665, 409837, 151210, -110244, -341938, -1212159, 683246, -70825, 335594, 417334, -272194, -236462, 657432, -211262, -128237, -1750387, 925441, 932089, -311434, 267252, -1876758, 1733696, 198551, -665765, 693229, -734926, 77242, 532869] At index:  0\n"
     ]
    }
   ],
   "source": [
    "import os\n",
    "import csv\n",
    "\n",
    "# Set path file directory\n",
    "budget_data = 'Resources/budget_data.csv'\n",
    "\n",
    "# Open csv file, prep for reading, delimit on comma, skip header\n",
    "# Put monthly pl data into list\n",
    "with open(budget_data, newline='') as csvfile:\n",
    "    reader = csv.reader(csvfile, delimiter=\",\")\n",
    "    next(reader)                                                    #Skip header row\n",
    "    pl_monthly = list(reader)\n",
    "\n",
    "#Capture difference b/w monthly profit/loss amounts\n",
    "pl_change = []\n",
    "for index,element in enumerate(pl_monthly[1:]):                 #[1:] does loop on numbers field, ignores month\n",
    "    pl_change.append(int(element[1])-int(pl_monthly[index][1])) # element 1 is 2nd number, index 1 is first number in list\n",
    "\n",
    "average = sum(pl_change)/len(pl_change)                         #Divide 85, b/c calcs start from 2nd month, to find m:m change\n",
    "average_formatted = \"${:,.2f}\".format(average)\n",
    "\n",
    "\n",
    "# print(pl_change)\n",
    "print(f\"Average Change: {average_formatted}\")\n",
    "print(pl_monthly)\n",
    "# print(f\"Greatest Increase in Profits: {max_formatted}\")\n",
    "\n",
    "# Convert change in m:m plchange string, into int\n",
    "new_plchange = [int(x) for x in pl_change]\n",
    "print(new_plchange)\n",
    "\n",
    "# indices = [index for index, item in enumerate(new_plchange) if item == max(new_plchange)]\n",
    "# print(indices)\n",
    "\n",
    "print(pl_change)\n",
    "\n",
    "# max_value = (new_plchange)\n",
    "# print(max(max_value))\n",
    "\n",
    "numbers = [pl_change]\n",
    "\n",
    "max_value = None\n",
    "max_idx = None\n",
    "\n",
    "for idx, num in enumerate(numbers):\n",
    "    if (max_value is None or num > max_value):\n",
    "        max_value = num\n",
    "        max_idx = idx\n",
    "\n",
    "print('Maximum value:', max_value, \"At index: \", max_idx)\n"
   ]
  },
  {
   "cell_type": "code",
   "execution_count": 94,
   "metadata": {},
   "outputs": [
    {
     "name": "stdout",
     "output_type": "stream",
     "text": [
      "[['Jan-10', '867884'], ['Feb-10', '984655'], ['Mar-10', '322013'], ['Apr-10', '-69417'], ['May-10', '310503'], ['Jun-10', '522857'], ['Jul-10', '1033096'], ['Aug-10', '604885'], ['Sep-10', '-216386'], ['Oct-10', '477532'], ['Nov-10', '893810'], ['Dec-10', '-80353'], ['Jan-11', '779806'], ['Feb-11', '-335203'], ['Mar-11', '697845'], ['Apr-11', '793163'], ['May-11', '485070'], ['Jun-11', '584122'], ['Jul-11', '62729'], ['Aug-11', '668179'], ['Sep-11', '899906'], ['Oct-11', '834719'], ['Nov-11', '132003'], ['Dec-11', '309978'], ['Jan-12', '-755566'], ['Feb-12', '1170593'], ['Mar-12', '252788'], ['Apr-12', '1151518'], ['May-12', '817256'], ['Jun-12', '570757'], ['Jul-12', '506702'], ['Aug-12', '-1022534'], ['Sep-12', '475062'], ['Oct-12', '779976'], ['Nov-12', '144175'], ['Dec-12', '542494'], ['Jan-13', '359333'], ['Feb-13', '321469'], ['Mar-13', '67780'], ['Apr-13', '471435'], ['May-13', '565603'], ['Jun-13', '872480'], ['Jul-13', '789480'], ['Aug-13', '999942'], ['Sep-13', '-1196225'], ['Oct-13', '268997'], ['Nov-13', '-687986'], ['Dec-13', '1150461'], ['Jan-14', '682458'], ['Feb-14', '617856'], ['Mar-14', '824098'], ['Apr-14', '581943'], ['May-14', '132864'], ['Jun-14', '448062'], ['Jul-14', '689161'], ['Aug-14', '800701'], ['Sep-14', '1166643'], ['Oct-14', '947333'], ['Nov-14', '578668'], ['Dec-14', '988505'], ['Jan-15', '1139715'], ['Feb-15', '1029471'], ['Mar-15', '687533'], ['Apr-15', '-524626'], ['May-15', '158620'], ['Jun-15', '87795'], ['Jul-15', '423389'], ['Aug-15', '840723'], ['Sep-15', '568529'], ['Oct-15', '332067'], ['Nov-15', '989499'], ['Dec-15', '778237'], ['Jan-16', '650000'], ['Feb-16', '-1100387'], ['Mar-16', '-174946'], ['Apr-16', '757143'], ['May-16', '445709'], ['Jun-16', '712961'], ['Jul-16', '-1163797'], ['Aug-16', '569899'], ['Sep-16', '768450'], ['Oct-16', '102685'], ['Nov-16', '795914'], ['Dec-16', '60988'], ['Jan-17', '138230'], ['Feb-17', '671099']]\n"
     ]
    }
   ],
   "source": [
    "import csv\n",
    "\n",
    "budget_data = 'Resources/budget_data.csv'\n",
    "\n",
    "with open(budget_data, newline='') as csvfile:\n",
    "    reader = csv.reader(csvfile, delimiter=\",\")\n",
    "    next(reader)\n",
    "    data = list(reader)\n",
    "\n",
    "print(data)\n",
    "\n",
    "\n",
    "# with open(budget_data) as csvfile:\n",
    "#     csvreader = csv.reader(csvfile, delimiter=\",\")"
   ]
  },
  {
   "cell_type": "code",
   "execution_count": 129,
   "metadata": {},
   "outputs": [
    {
     "name": "stdout",
     "output_type": "stream",
     "text": [
      "38382578\n",
      "<csv.DictReader object at 0x0000019CF7E11F08>\n"
     ]
    }
   ],
   "source": [
    "import csv\n",
    "\n",
    "# budget_data = 'Resources/budget_data.csv'\n",
    "\n",
    "# with open(budget_data, newline='') as csvfile:\n",
    "#     file = csv.DictReader(csvfile)\n",
    "filename = open('Resources/budget_data.csv','r')\n",
    "file = csv.DictReader(filename)\n",
    "\n",
    "profit = []\n",
    "\n",
    "for column in file:\n",
    "        profit.append(column['Profit/Losses'])\n",
    "\n",
    "print(pandl)\n",
    "print(file)"
   ]
  },
  {
   "cell_type": "code",
   "execution_count": 183,
   "metadata": {},
   "outputs": [
    {
     "name": "stdout",
     "output_type": "stream",
     "text": [
      "Average Change: $-2,315.12\n",
      "[['Jan-10', '867884'], ['Feb-10', '984655'], ['Mar-10', '322013'], ['Apr-10', '-69417'], ['May-10', '310503'], ['Jun-10', '522857'], ['Jul-10', '1033096'], ['Aug-10', '604885'], ['Sep-10', '-216386'], ['Oct-10', '477532'], ['Nov-10', '893810'], ['Dec-10', '-80353'], ['Jan-11', '779806'], ['Feb-11', '-335203'], ['Mar-11', '697845'], ['Apr-11', '793163'], ['May-11', '485070'], ['Jun-11', '584122'], ['Jul-11', '62729'], ['Aug-11', '668179'], ['Sep-11', '899906'], ['Oct-11', '834719'], ['Nov-11', '132003'], ['Dec-11', '309978'], ['Jan-12', '-755566'], ['Feb-12', '1170593'], ['Mar-12', '252788'], ['Apr-12', '1151518'], ['May-12', '817256'], ['Jun-12', '570757'], ['Jul-12', '506702'], ['Aug-12', '-1022534'], ['Sep-12', '475062'], ['Oct-12', '779976'], ['Nov-12', '144175'], ['Dec-12', '542494'], ['Jan-13', '359333'], ['Feb-13', '321469'], ['Mar-13', '67780'], ['Apr-13', '471435'], ['May-13', '565603'], ['Jun-13', '872480'], ['Jul-13', '789480'], ['Aug-13', '999942'], ['Sep-13', '-1196225'], ['Oct-13', '268997'], ['Nov-13', '-687986'], ['Dec-13', '1150461'], ['Jan-14', '682458'], ['Feb-14', '617856'], ['Mar-14', '824098'], ['Apr-14', '581943'], ['May-14', '132864'], ['Jun-14', '448062'], ['Jul-14', '689161'], ['Aug-14', '800701'], ['Sep-14', '1166643'], ['Oct-14', '947333'], ['Nov-14', '578668'], ['Dec-14', '988505'], ['Jan-15', '1139715'], ['Feb-15', '1029471'], ['Mar-15', '687533'], ['Apr-15', '-524626'], ['May-15', '158620'], ['Jun-15', '87795'], ['Jul-15', '423389'], ['Aug-15', '840723'], ['Sep-15', '568529'], ['Oct-15', '332067'], ['Nov-15', '989499'], ['Dec-15', '778237'], ['Jan-16', '650000'], ['Feb-16', '-1100387'], ['Mar-16', '-174946'], ['Apr-16', '757143'], ['May-16', '445709'], ['Jun-16', '712961'], ['Jul-16', '-1163797'], ['Aug-16', '569899'], ['Sep-16', '768450'], ['Oct-16', '102685'], ['Nov-16', '795914'], ['Dec-16', '60988'], ['Jan-17', '138230'], ['Feb-17', '671099']]\n"
     ]
    },
    {
     "ename": "TypeError",
     "evalue": "'int' object is not callable",
     "output_type": "error",
     "traceback": [
      "\u001b[1;31m---------------------------------------------------------------------------\u001b[0m",
      "\u001b[1;31mTypeError\u001b[0m                                 Traceback (most recent call last)",
      "\u001b[1;32m~\\AppData\\Local\\Temp\\ipykernel_15984\\2032215100.py\u001b[0m in \u001b[0;36m<module>\u001b[1;34m\u001b[0m\n\u001b[0;32m     27\u001b[0m \u001b[1;33m\u001b[0m\u001b[0m\n\u001b[0;32m     28\u001b[0m \u001b[0mnumber_list\u001b[0m \u001b[1;33m=\u001b[0m \u001b[0mpl_change\u001b[0m\u001b[1;33m\u001b[0m\u001b[1;33m\u001b[0m\u001b[0m\n\u001b[1;32m---> 29\u001b[1;33m \u001b[0mmax_value\u001b[0m \u001b[1;33m=\u001b[0m \u001b[0mmax\u001b[0m\u001b[1;33m(\u001b[0m\u001b[0mnumber_list\u001b[0m\u001b[1;33m)\u001b[0m\u001b[1;33m\u001b[0m\u001b[1;33m\u001b[0m\u001b[0m\n\u001b[0m\u001b[0;32m     30\u001b[0m \u001b[0mmax_index\u001b[0m \u001b[1;33m=\u001b[0m \u001b[0mnumber_list\u001b[0m\u001b[1;33m.\u001b[0m\u001b[0mindex\u001b[0m\u001b[1;33m(\u001b[0m\u001b[0mmax_value\u001b[0m\u001b[1;33m)\u001b[0m\u001b[1;33m\u001b[0m\u001b[1;33m\u001b[0m\u001b[0m\n\u001b[0;32m     31\u001b[0m \u001b[0mprint\u001b[0m\u001b[1;33m(\u001b[0m\u001b[0mmax_index\u001b[0m\u001b[1;33m)\u001b[0m\u001b[1;33m\u001b[0m\u001b[1;33m\u001b[0m\u001b[0m\n",
      "\u001b[1;31mTypeError\u001b[0m: 'int' object is not callable"
     ]
    }
   ],
   "source": [
    "import os\n",
    "import csv\n",
    "\n",
    "# Set path file directory\n",
    "budget_data = 'Resources/budget_data.csv'\n",
    "\n",
    "# Open csv file, prep for reading, delimit on comma, skip header\n",
    "# Put monthly pl data into list\n",
    "with open(budget_data, newline='') as csvfile:\n",
    "    reader = csv.reader(csvfile, delimiter=\",\")\n",
    "    next(reader)                                                    #Skip header row\n",
    "    pl_monthly = list(reader)\n",
    "\n",
    "#Capture difference b/w monthly profit/loss amounts\n",
    "pl_change = []\n",
    "for index,element in enumerate(pl_monthly[1:]):                 #[1:] does loop on numbers field, ignores month\n",
    "    pl_change.append(int(element[1])-int(pl_monthly[index][1])) # element 1 is 2nd number, index 1 is first number in list\n",
    "\n",
    "average = sum(pl_change)/len(pl_change)                         #Divide 85, b/c calcs start from 2nd month, to find m:m change\n",
    "average_formatted = \"${:,.2f}\".format(average)\n",
    "\n",
    "\n",
    "# print(pl_change)\n",
    "print(f\"Average Change: {average_formatted}\")\n",
    "print(pl_monthly)\n",
    "\n",
    "\n",
    "\n",
    "\n",
    "\n",
    "# print(f\"Greatest Increase in Profits: {max_formatted}\")\n",
    "\n",
    "# Convert change in m:m plchange string, into int\n",
    "# new_plchange = [int(x) for x in pl_change]\n",
    "# print(new_plchange)\n",
    "\n",
    "# indices = [index for index, item in enumerate(new_plchange) if item == max(new_plchange)]\n",
    "# print(indices)\n",
    "\n",
    "# print(pl_change)\n",
    "\n",
    "# max_value = (new_plchange)\n",
    "# print(max(max_value))\n",
    "\n",
    "# numbers = [pl_change]\n",
    "\n",
    "# max_value = None\n",
    "# max_idx = None\n",
    "\n",
    "# for idx, num in enumerate(numbers):\n",
    "#     if (max_value is None or num > max_value):\n",
    "#         max_value = num\n",
    "#         max_idx = idx\n",
    "\n",
    "#     print('Maximum value:', max_value, \"At index: \", max_idx)\n"
   ]
  }
 ],
 "metadata": {
  "interpreter": {
   "hash": "c1045dce47e268ff1365c3f603defeb0aa850c229e636842f21fdc3e170438c8"
  },
  "kernelspec": {
   "display_name": "Python 3.7.13 ('bootcamp')",
   "language": "python",
   "name": "python3"
  },
  "language_info": {
   "codemirror_mode": {
    "name": "ipython",
    "version": 3
   },
   "file_extension": ".py",
   "mimetype": "text/x-python",
   "name": "python",
   "nbconvert_exporter": "python",
   "pygments_lexer": "ipython3",
   "version": "3.7.13"
  },
  "orig_nbformat": 4
 },
 "nbformat": 4,
 "nbformat_minor": 2
}
